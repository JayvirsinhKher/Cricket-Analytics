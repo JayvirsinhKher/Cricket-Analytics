{
  "nbformat": 4,
  "nbformat_minor": 0,
  "metadata": {
    "colab": {
      "name": "Indian Player performance against SA in Test.ipynb",
      "provenance": [],
      "collapsed_sections": [],
      "mount_file_id": "1l7FZ3Pr_kRbYHSVDfQ1DUCNT_qjq6IK_",
      "authorship_tag": "ABX9TyOV7thzpIkNKz0FQ0F8rdAC",
      "include_colab_link": true
    },
    "kernelspec": {
      "name": "python3",
      "display_name": "Python 3"
    },
    "language_info": {
      "name": "python"
    }
  },
  "cells": [
    {
      "cell_type": "markdown",
      "metadata": {
        "id": "view-in-github",
        "colab_type": "text"
      },
      "source": [
        "<a href=\"https://colab.research.google.com/github/jayveerkher/Cricket-Analytics/blob/main/Indian_Player_performance_against_SA_in_Test.ipynb\" target=\"_parent\"><img src=\"https://colab.research.google.com/assets/colab-badge.svg\" alt=\"Open In Colab\"/></a>"
      ]
    },
    {
      "cell_type": "code",
      "execution_count": 41,
      "metadata": {
        "id": "78aMuiXPya6O"
      },
      "outputs": [],
      "source": [
        "import warnings\n",
        "warnings.filterwarnings('ignore')\n",
        "\n",
        "import pandas as pd\n",
        "import numpy as np"
      ]
    },
    {
      "cell_type": "code",
      "source": [
        "df = pd.read_csv('/content/drive/MyDrive/DataSets/Test Data set/All_Test_Data.csv')"
      ],
      "metadata": {
        "id": "AR1Tdp1jyl9x"
      },
      "execution_count": 42,
      "outputs": []
    },
    {
      "cell_type": "code",
      "source": [
        "ind_bat_vs_sa_df = df[df.batting_team == 'India'][df.bowling_team == 'South Africa']\n",
        "#players = df[df.batting_team == 'India']['striker'].unique()"
      ],
      "metadata": {
        "id": "0yW7ocdnyqFu"
      },
      "execution_count": 43,
      "outputs": []
    },
    {
      "cell_type": "code",
      "source": [
        "def batting_performance(player_name):\n",
        "  player_df = ind_bat_vs_sa_df[ind_bat_vs_sa_df.striker == player_name]\n",
        "\n",
        "  #PLAYER TOTAL INNINGS\n",
        "  player_matches = len(player_df[(player_df.innings == 1) | (player_df.innings == 2) | (player_df.innings == 3) | (player_df.innings == 4) ]['match_id'].unique())\n",
        "  player_inn = len(player_df[player_df.innings == 1]['match_id'].unique()) + len(player_df[player_df.innings == 2]['match_id'].unique()) + len(player_df[player_df.innings == 3]['match_id'].unique()) + len(player_df[player_df.innings == 4]['match_id'].unique()) \n",
        "  player_dismissed = ind_bat_vs_sa_df[ind_bat_vs_sa_df.player_dismissed == player_name]['player_dismissed'].count()\n",
        "  print(\"Player Name : \",player_name)\n",
        "  print(\"Total Matches Against SA : \",player_matches)\n",
        "  print(\"Innings : \",player_inn)\n",
        "  print(\"Outs : \",player_dismissed)\n",
        "\n",
        "  # PLAYER TOTAL RUNS\n",
        "  player_runs = player_df['runs_off_bat'].sum()\n",
        "  print(\"Runs : \",player_runs)\n",
        "  #PLAYER BALL FACED\n",
        "  player_balls = player_df['ball'].count()\n",
        "  print(\"Ball Faced : \",player_balls)\n",
        "  #PLAYER STRIKE RATE\n",
        "  player_SR = 100*player_runs/player_balls\n",
        "  print(\"Strike Rate : {:.2f}\".format(player_SR))\n",
        "  #PLAYER AVERAGE\n",
        "  player_avg = player_runs/player_dismissed\n",
        "  print(\"Average : {:.2f}\".format(player_avg))\n",
        "  #PLAYER DOT BALL PERCENTAGE\n",
        "  dot_ball = player_df[player_df.runs_off_bat == 0]['ball'].count()\n",
        "  dot_percentage = (100*dot_ball)/ player_balls\n",
        "  print(\"Dot Ball % : {:.2f}\".format(dot_percentage))\n",
        "  #PLAYER BOUNDARIES\n",
        "  fours = player_df[player_df.runs_off_bat == 4]['runs_off_bat'].count()\n",
        "  sixes = player_df[player_df.runs_off_bat == 6]['runs_off_bat'].count()\n",
        "  print(\"Fours : \",fours)\n",
        "  print(\"Sixes : \",sixes)\n",
        "  #PLAYER HIGHEST SCORE\n",
        "  highest_score = pd.DataFrame(player_df.groupby('match_id')['runs_off_bat'].sum()).max()\n",
        "  highest_score = int(highest_score.values)\n",
        "  print(\"Higest Score in Match : \",highest_score)"
      ],
      "metadata": {
        "id": "oypAkomXzQYN"
      },
      "execution_count": 44,
      "outputs": []
    },
    {
      "cell_type": "code",
      "source": [
        "player_name = 'V Kohli'\n",
        "batting_performance(player_name)"
      ],
      "metadata": {
        "colab": {
          "base_uri": "https://localhost:8080/"
        },
        "id": "rLpWxUO66VbZ",
        "outputId": "28f4d891-4aef-4c75-c209-675165185ac9"
      },
      "execution_count": 45,
      "outputs": [
        {
          "output_type": "stream",
          "name": "stdout",
          "text": [
            "Player Name :  V Kohli\n",
            "Total Matches Against SA :  11\n",
            "Innings :  20\n",
            "Outs :  18\n",
            "Runs :  1075\n",
            "Ball Faced :  1783\n",
            "Strike Rate : 60.29\n",
            "Average : 59.72\n",
            "Dot Ball % : 68.93\n",
            "Fours :  135\n",
            "Sixes :  3\n",
            "Higest Score in Match :  254\n"
          ]
        }
      ]
    },
    {
      "cell_type": "code",
      "source": [
        ""
      ],
      "metadata": {
        "id": "8lsS2jmy6gPa"
      },
      "execution_count": 45,
      "outputs": []
    }
  ]
}